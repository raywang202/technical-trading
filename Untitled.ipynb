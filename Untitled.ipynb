{
 "cells": [
  {
   "cell_type": "code",
   "execution_count": 1,
   "id": "e0d7ab36-b551-4e8a-b5c3-5889afb870cf",
   "metadata": {},
   "outputs": [],
   "source": [
    "import pandas as pd\n",
    "import yfinance as yf\n",
    "import matplotlib.pyplot as plt\n",
    "import matplotlib.dates as mdates\n",
    "from datetime import datetime, timedelta\n",
    "import numpy as np\n",
    "import ssl\n",
    "from itertools import product\n",
    "import sklearn\n",
    "\n",
    "\n",
    "# Repeat the prior data mining example to identify the top 10 long/short trades\n",
    "# using the last 10 years. But apply ML to determine whether we should actually\n",
    "# take those trades offered by the seasonal strategy. In this case, conditional\n",
    "# on a signal, assign a 1 or 0 if the strategy would have made money, and use\n",
    "# ML of this on a number of other indicators:\n",
    "# 1) Other seasonal indicators: Winrate for last year, last 3 yrs, last 5 yrs\n",
    "# 2) Estimate of daily volatility (EWM with span parameter = 30)\n",
    "# 3) Simple momentum indicator for the stock and the SP500 overall: 'up'\n",
    "#    if EWM with span of 5 (1 week) exceeds the EWM with span of 10 (2 weeks)\n",
    "\n",
    "# Define the feature functions\n",
    "\n",
    "# Historical rate of stock going up (i.e. winrate if we are long)\n",
    "def historical_up_rate(data, symbol, start_date, end_date, first_year, last_year):\n",
    "    up_list = []\n",
    "    # Deal with Feb 29: assign start/end dates to Mar 1\n",
    "    if start_date == '02-29': start_date = '03-01'\n",
    "    if end_date == '02-29': end_date = '03-01'\n",
    "    for year in range(first_year, (last_year + 1)):\n",
    "        full_start_date = str(year) + '-' + start_date\n",
    "        full_end_date = str(year) + '-' + end_date\n",
    "        trade_start_date = data.loc[full_start_date, 'Price Date']\n",
    "        trade_end_date = data.loc[full_end_date, 'Price Date']\n",
    "        start_price = data.loc[full_start_date, symbol]\n",
    "\n",
    "        # If price data is missing, skip that year\n",
    "        if np.isnan(start_price):\n",
    "            continue\n",
    "        end_price = data.loc[full_end_date, symbol]\n",
    "        if np.isnan(end_price):\n",
    "            continue\n",
    "\n",
    "        if end_price >= start_price:\n",
    "            ret = 1\n",
    "        else:\n",
    "            ret = 0\n",
    "        up_list.append(ret)\n",
    "    return np.mean(up_list)\n",
    "\n",
    "\n",
    "# Daily volatility with exponentially weighted moving average\n",
    "def get_ewm_vol(data, symbol, span):\n",
    "    stock_rets = log(data.symbol / data.symbol.shift(1))\n",
    "    return stock_rets.ewm(span).std()\n",
    "\n",
    "\n",
    "# EWMA of simple price: compare between a long/short window to determine\n",
    "# whether the signal is long\n",
    "def get_ewm_price(data, symbol, span):\n",
    "    return data.symbol.ewm(span).mean()\n",
    "\n",
    "def return_stats(x, risk_free_rate = 0):\n",
    "    d = {}\n",
    "    d['N'] = x['Symbol'].count()\n",
    "    d['avg r'] = x['Return'].mean()\n",
    "    d['vol'] = x['Return'].std()\n",
    "    downsides = x[x['Return'] < risk_free_rate]['Return']\n",
    "    d['downside dev'] = 0 if downsides.count()==0 else downsides.std()\n",
    "    upsides = x[-x['Return'] < risk_free_rate]['Return']\n",
    "    d['upside dev'] = 0 if upsides.count()==0 else upsides.std()\n",
    "    d['up'] = sum(x['Return']>risk_free_rate)\n",
    "    return pd.Series(d, index = ['N','avg r','vol','downside dev','upside dev',\n",
    "        'up'])\n",
    "\n",
    "def seasonal_return(data, symbol, start_date, end_date, first_year, last_year):\n",
    "    data_list = []\n",
    "    # Deal with Feb 29: assign start/end dates to Mar 1\n",
    "    if start_date == '02-29': start_date = '03-01'\n",
    "    if end_date == '02-29': end_date = '03-01'\n",
    "    for year in range(first_year, (last_year + 1)):\n",
    "        full_start_date = str(year) + '-' + start_date\n",
    "        full_end_date = str(year) + '-' + end_date\n",
    "        trade_start_date = data.loc[full_start_date, 'Price Date']\n",
    "        trade_end_date = data.loc[full_end_date, 'Price Date']\n",
    "        start_price = data.loc[full_start_date, symbol]\n",
    "\n",
    "        # If price data is missing, skip that year\n",
    "        if np.isnan(start_price):\n",
    "            continue\n",
    "        end_price = data.loc[full_end_date, symbol]\n",
    "        if np.isnan(end_price):\n",
    "            continue\n",
    "        returns = (end_price / start_price) - 1\n",
    "        data_list.append([symbol, year, trade_start_date, start_price,\n",
    "                          trade_end_date,\n",
    "                          end_price, returns])\n",
    "\n",
    "    df = pd.DataFrame(data_list, columns=['Symbol', 'Year', 'Init Date',\n",
    "                                          'Init Price', 'Final Date', 'Final Price', 'Return'])\n",
    "    return df"
   ]
  },
  {
   "cell_type": "code",
   "execution_count": 7,
   "id": "7d385c2d-35d5-4de4-84df-a3884c32c1b5",
   "metadata": {},
   "outputs": [],
   "source": [
    "# Pull the adjusted close prices off Yahoo Finance\n",
    "df = pd.read_csv(\"S&P500-Symbols.csv\")\n",
    "tickers = list(df['Symbol'])\n",
    "start_date = '1989-01-01'\n",
    "end_date = '2024-01-03'  # Get data a few days past end of year to backfill\n",
    "\n",
    "# Either pull from Yahoo finance, or for read the pre-downloaded CSV\n",
    "# data = pd.DataFrame(yf.download(tickers, start_date, end_date)['Adj Close'])\n",
    "# data.reset_index().to_csv(\"S&P500-adjusted-close.csv\", index=False)\n",
    "data = pd.read_csv('S&P500-adjusted-close.csv')\n",
    "data['Date']= pd.to_datetime(data['Date'])\n",
    "data = data.set_index('Date')\n",
    "all_dates = pd.date_range(start_date, end_date)\n",
    "data['Price Date'] = data.index\n",
    "\n",
    "# Backfill with trading prices for missing dates\n",
    "data = data.reindex(all_dates, method='bfill')\n",
    "sp500_dates_added = pd.read_csv(\"S&P500-Info.csv\")[['Symbol','Date added']]\n",
    "\n",
    "all_stocks = data.columns.drop(labels='Price Date')\n",
    "\n",
    "# Only keep through end of 2023\n",
    "data = data[data.index < '2024-01-01']\n",
    "\n",
    "# Restrict to stocks that have data back in 2009, total of 432\n",
    "sub_cols = data.columns[data.loc['2009-01-01'].notna()]\n",
    "sub_cols = sub_cols.append(pd.Index(['Price Date']))\n",
    "sub_stocks = data[sub_cols].columns.drop(labels='Price Date')\n",
    "                                                        \n",
    "sub_data = data[sub_cols][data.index >= '2009-01-01']\n",
    "\n",
    "hold_range = [7, 14, 28]  # hold for a fixed number of weeks, up to a month\n",
    "delay_range = [0, 5, 10]\n",
    "start_months = list(range(1, 12 + 1))\n",
    "start_days = ['-01', '-15']\n",
    "initial_dates = [str(i) + j for i, j in product(start_months, start_days)]\n"
   ]
  },
  {
   "cell_type": "code",
   "execution_count": 5,
   "id": "64feb9ce-a258-470e-8b14-9fcf2cf07fbc",
   "metadata": {},
   "outputs": [],
   "source": [
    "# Running the below loop for 2019, 2020, 2021 start/middle of months takes about an hour\n",
    "# The results are saved in the CSV, so just load that instead\n",
    "\n",
    "all_returns_list = []\n",
    "\n",
    "for trade_year in [2019, 2020, 2021]:\n",
    "    start_year = trade_year - 10\n",
    "    end_year = trade_year - 1\n",
    "\n",
    "\n",
    "    for initial_date in initial_dates:\n",
    "\n",
    "        initial_calendar_year = datetime.strptime(\n",
    "            str(trade_year) + \"-\" + initial_date, \"%Y-%m-%d\")\n",
    "\n",
    "        # Delay refers to how many days after the 1st or 15th we start the trade\n",
    "        # This technically means we will never start a position on the 29-31st\n",
    "        for delay in delay_range:\n",
    "            start_calendar_year = initial_calendar_year + timedelta(days=delay)\n",
    "            start_calendar = start_calendar_year.strftime('%m-%d')\n",
    "\n",
    "            for hold_length in hold_range:\n",
    "                end_calendar = (start_calendar_year + timedelta(days=hold_length)\n",
    "                                ).strftime('%m-%d')\n",
    "                stock_returns_list = []\n",
    "\n",
    "                for stock in sub_stocks:\n",
    "                    stock_returns_list.append(seasonal_return(sub_data, stock,\n",
    "                                                              start_calendar, end_calendar, start_year, end_year))\n",
    "\n",
    "                seasonal_returns = pd.concat(stock_returns_list)\n",
    "                symbol_stats = seasonal_returns.groupby('Symbol').apply(\n",
    "                    return_stats, risk_free_rate=0)\n",
    "                symbol_stats['trade window'] = initial_date\n",
    "                symbol_stats['start date'] = start_calendar_year\n",
    "                symbol_stats['end date'] = end_calendar\n",
    "                symbol_stats['Sharpe Long'] = symbol_stats['avg r'] / symbol_stats['vol']\n",
    "                symbol_stats['Sharpe Short'] = -symbol_stats['avg r'] / symbol_stats['vol']\n",
    "\n",
    "                symbol_stats['hold length'] = hold_length\n",
    "                all_returns_list.append(symbol_stats)\n",
    "\n",
    "all_returns = pd.concat(all_returns_list)\n"
   ]
  },
  {
   "cell_type": "code",
   "execution_count": 3,
   "id": "254ec6c2-a31c-4f3a-b57d-ca9520a1e481",
   "metadata": {},
   "outputs": [],
   "source": [
    "all_returns = pd.read_csv('seasonal_trades_2019_2021.csv')\n"
   ]
  },
  {
   "cell_type": "code",
   "execution_count": 224,
   "id": "06ea9196-ae48-4c4c-8044-da0687d15352",
   "metadata": {},
   "outputs": [],
   "source": [
    "## Import the CSV of all returns\n",
    "\n",
    "all_returns = pd.read_csv('seasonal_trades_2019_2021.csv')\n",
    "\n",
    "all_returns['trade year']=all_returns['trade window'].str.slice(0,4)\n",
    "\n",
    "# Annualize returns\n",
    "all_returns['annualized r'] = (all_returns['avg r'] * 365 /\n",
    "                               all_returns['hold length'])\n",
    "\n",
    "# Consider first only the long positions\n",
    "long_positions = all_returns[(all_returns['annualized r'] > 0.5) & \n",
    "(all_returns.up >= 6) & all_returns['avg r']>.01].sort_values(\n",
    "    'Sharpe Long', ascending=False).groupby('trade window').head(10)\n"
   ]
  },
  {
   "cell_type": "code",
   "execution_count": 263,
   "id": "466cbe6f-1688-481e-9b07-3ba17638d344",
   "metadata": {},
   "outputs": [],
   "source": [
    "# Define the feature functions, keeping in mind that all_returns already has\n",
    "# the seasonal data calculated\n",
    "\n",
    "# Historical winrates\n",
    "long_positions['past1yr']=long_positions.apply(lambda row: historical_up_rate(\n",
    "    data, row['Symbol'],row['start date'][5:10], row['end date'], \n",
    "    int(row['trade year'])-1,int(row['trade year'])-1), axis = 1)\n",
    "\n",
    "long_positions['past3yr']=long_positions.apply(lambda row: historical_up_rate(\n",
    "    data, row['Symbol'],row['start date'][5:10], row['end date'], \n",
    "    int(row['trade year'])-3,int(row['trade year'])-1), axis = 1)\n",
    "\n",
    "long_positions['past5yr']=long_positions.apply(lambda row: historical_up_rate(\n",
    "    data, row['Symbol'],row['start date'][5:10], row['end date'], \n",
    "    int(row['trade year'])-5,int(row['trade year'])-1), axis = 1)\n",
    "\n",
    "# Daily volatility with exponentially weighted moving average\n",
    "# We get in a bit of trouble with the backfilled data: so move forward to\n",
    "# the day we would trade, and then only consider averages of actual trading days\n",
    "\n",
    "data_no_backfill = data[data.index==data['Price Date']]\n",
    "\n",
    "# Note that these functions are shifted by 1, since it would involve knowing\n",
    "# the current day's closing price (assume we trade DURING the day and take the\n",
    "# then unknown close price)\n",
    "\n",
    "def get_ewm_vol(data, symbol, date, span = 30):\n",
    "    stock_rets = np.log(data[symbol] / data[symbol].shift(1)).shift(1)\n",
    "    return stock_rets.ewm(span).std().loc[date]\n",
    "\n",
    "long_positions['ewm_vol'] = long_positions.apply(lambda row: get_ewm_vol(\n",
    "    data_no_backfill, row['Symbol'], data.loc[row['start date']]['Price Date'],\n",
    "     30), axis = 1)\n",
    "\n",
    "\n",
    "# EWMA of simple price: compare between a long/short window to determine\n",
    "# whether the signal is long\n",
    "def get_ewm_momentum(data, symbol, date, long_window, short_window):\n",
    "    near_momentum_long = (data[symbol].ewm(short_window).mean().shift(1).loc[date]>\n",
    "        data[symbol].ewm(long_window).mean().shift(1).loc[date])\n",
    "    if near_momentum_long:\n",
    "        return 1\n",
    "    else:\n",
    "        return 0\n",
    "\n",
    "long_positions['long_momentum'] = long_positions.apply(lambda row:\n",
    "    get_ewm_momentum(data_no_backfill, row['Symbol'], data.loc[row['start date']]['Price Date'],\n",
    "        long_window = 10, short_window = 5), axis = 1)\n",
    "\n",
    "def get_recent_return(data, symbol, date, days_back = 1):\n",
    "    stock_rets = np.log(data[symbol] / data[symbol].shift(days_back)).shift(1)\n",
    "\n",
    "long_positions['yesterday_ret'] = long_positions.apply(lambda row:\n",
    "    get_recent_return(data_no_backfill, row['Symbol'],\n",
    "        data.loc[row['start date']]['Price Date'],days_back = 1), axis = 1)\n",
    "\n",
    "\n",
    "\n",
    "# Get the actual returns for the start/end date\n",
    "\n",
    "def get_actual_return(data, symbol, start_date, end_date):\n",
    "    return np.log(data[symbol].loc[end_date]/data[symbol].loc[start_date])\n",
    "\n",
    "long_positions['actual_return'] = long_positions.apply(lambda row:\n",
    "    get_actual_return(data, row['Symbol'], row['start date'],\n",
    "        row['trade year']+'-'+row['end date']), axis = 1)\n",
    "\n",
    "# Assign 1 or 0 for whether or not we should trade: this is the outcome variable\n",
    "# to compare vs our features\n",
    "# Here, due to the presence of slippage, let's restrict to at least a 1%\n",
    "# absolute return. Even in that case, 351/720 long trades would have absolute\n",
    "# returns over 1%\n",
    "long_positions['outcome'] = np.where(\n",
    "    long_positions['actual_return'] > 0.01, 1, 0)\n"
   ]
  },
  {
   "cell_type": "code",
   "execution_count": 267,
   "id": "745a5392",
   "metadata": {},
   "outputs": [
    {
     "data": {
      "text/plain": [
       "{'n_estimators': 400,\n",
       " 'max_samples': 0.3,\n",
       " 'max_features': 0.30000000000000004,\n",
       " 'max_depth': 5}"
      ]
     },
     "execution_count": 267,
     "metadata": {},
     "output_type": "execute_result"
    }
   ],
   "source": [
    "# Random Forest\n",
    "from sklearn.ensemble import RandomForestClassifier\n",
    "from sklearn.model_selection import train_test_split\n",
    "from sklearn.metrics import roc_curve, classification_report\n",
    "\n",
    "from sklearn.model_selection import RandomizedSearchCV\n",
    "\n",
    "\n",
    "X = long_positions[['past1yr','past3yr','past5yr','ewm_vol','long_momentum',\n",
    "'yesterday_ret']].values\n",
    "y = long_positions['outcome'].values\n",
    "\n",
    "X_train, X_test, y_train, y_test = train_test_split(X, y, train_size = 0.8,\n",
    "                                                    shuffle=False)\n",
    "\n",
    "# Search amongst some common hyperparameters\n",
    "param_grid = {'max_depth': [3, 5, 7],\n",
    "              'max_features':np.arange(0.1, 1, 0.1),\n",
    "              'max_samples': [0.3, 0.5, 0.8],\n",
    "              'n_estimators':np.arange(50,500,50)}\n",
    "\n",
    "model = RandomizedSearchCV(RandomForestClassifier(),\n",
    "    param_grid, n_iter = 40, cv = 4).fit(X_train, y_train)\n",
    "\n",
    "model.best_params_"
   ]
  },
  {
   "cell_type": "code",
   "execution_count": 273,
   "id": "3ecdea41",
   "metadata": {},
   "outputs": [
    {
     "name": "stdout",
     "output_type": "stream",
     "text": [
      "              precision    recall  f1-score   support\n",
      "\n",
      "    no_trade       0.50      0.53      0.51        70\n",
      "       trade       0.53      0.50      0.51        74\n",
      "\n",
      "    accuracy                           0.51       144\n",
      "   macro avg       0.51      0.51      0.51       144\n",
      "weighted avg       0.51      0.51      0.51       144\n",
      "\n"
     ]
    },
    {
     "data": {
      "image/png": "[encoded data removed]",
      "text/plain": [
       "<Figure size 640x480 with 1 Axes>"
      ]
     },
     "metadata": {},
     "output_type": "display_data"
    }
   ],
   "source": [
    "model.fit(X_train,y_train)\n",
    "y_pred_rf = model.predict_proba(X_test)[:, 1]\n",
    "y_pred = model.predict(X_test)\n",
    "fpr_rf, tpr_rf, _ = roc_curve(y_test, y_pred_rf)\n",
    "print(classification_report(y_test, y_pred, \n",
    "                            target_names=['no_trade','trade']))\n",
    "\n",
    "plt.figure(1)\n",
    "plt.plot([0, 1], [0, 1], 'k--')\n",
    "plt.plot(fpr_rf, tpr_rf, label='RF')\n",
    "plt.xlabel('False positive rate')\n",
    "plt.ylabel('True positive rate')\n",
    "plt.title('ROC curve')\n",
    "plt.legend(loc='best')\n",
    "plt.show()\n"
   ]
  },
  {
   "cell_type": "code",
   "execution_count": 274,
   "id": "2e0f207f",
   "metadata": {},
   "outputs": [
    {
     "name": "stdout",
     "output_type": "stream",
     "text": [
      "              precision    recall  f1-score   support\n",
      "\n",
      "    no_trade       0.64      0.76      0.70       292\n",
      "       trade       0.70      0.56      0.62       284\n",
      "\n",
      "    accuracy                           0.66       576\n",
      "   macro avg       0.67      0.66      0.66       576\n",
      "weighted avg       0.67      0.66      0.66       576\n",
      "\n"
     ]
    },
    {
     "data": {
      "image/png": "[encoded data removed]",
      "text/plain": [
       "<Figure size 640x480 with 1 Axes>"
      ]
     },
     "metadata": {},
     "output_type": "display_data"
    }
   ],
   "source": [
    "y_pred_rf = model.predict_proba(X_train)[:, 1]\n",
    "y_pred = model.predict(X_train)\n",
    "fpr_rf, tpr_rf, _ = roc_curve(y_train, y_pred_rf)\n",
    "print(classification_report(y_train, y_pred, \n",
    "                            target_names=['no_trade','trade']))\n",
    "\n",
    "plt.figure(1)\n",
    "plt.plot([0, 1], [0, 1], 'k--')\n",
    "plt.plot(fpr_rf, tpr_rf, label='RF')\n",
    "plt.xlabel('False positive rate')\n",
    "plt.ylabel('True positive rate')\n",
    "plt.title('ROC curve')\n",
    "plt.legend(loc='best')\n",
    "plt.show()"
   ]
  },
  {
   "cell_type": "code",
   "execution_count": 249,
   "id": "e8c904a4",
   "metadata": {},
   "outputs": [
    {
     "ename": "NameError",
     "evalue": "name 'feature_list' is not defined",
     "output_type": "error",
     "traceback": [
      "\u001b[1;31m---------------------------------------------------------------------------\u001b[0m",
      "\u001b[1;31mNameError\u001b[0m                                 Traceback (most recent call last)",
      "Cell \u001b[1;32mIn[249], line 4\u001b[0m\n\u001b[0;32m      2\u001b[0m importances \u001b[38;5;241m=\u001b[39m \u001b[38;5;28mlist\u001b[39m(model\u001b[38;5;241m.\u001b[39mbest_estimator_\u001b[38;5;241m.\u001b[39mfeature_importances_)\n\u001b[0;32m      3\u001b[0m \u001b[38;5;66;03m# List of tuples with variable and importance\u001b[39;00m\n\u001b[1;32m----> 4\u001b[0m feature_importances \u001b[38;5;241m=\u001b[39m [(feature, \u001b[38;5;28mround\u001b[39m(importance, \u001b[38;5;241m2\u001b[39m)) \u001b[38;5;28;01mfor\u001b[39;00m feature, importance \u001b[38;5;129;01min\u001b[39;00m \u001b[38;5;28mzip\u001b[39m(\u001b[43mfeature_list\u001b[49m, importances)]\n\u001b[0;32m      5\u001b[0m \u001b[38;5;66;03m# Sort the feature importances by most important first\u001b[39;00m\n\u001b[0;32m      6\u001b[0m feature_importances \u001b[38;5;241m=\u001b[39m \u001b[38;5;28msorted\u001b[39m(feature_importances, key \u001b[38;5;241m=\u001b[39m \u001b[38;5;28;01mlambda\u001b[39;00m x: x[\u001b[38;5;241m1\u001b[39m], reverse \u001b[38;5;241m=\u001b[39m \u001b[38;5;28;01mTrue\u001b[39;00m)\n",
      "\u001b[1;31mNameError\u001b[0m: name 'feature_list' is not defined"
     ]
    }
   ],
   "source": [
    "# Get numerical feature importances\n",
    "importances = list(model.best_estimator_.feature_importances_)\n",
    "# List of tuples with variable and importance\n",
    "feature_importances = [(feature, round(importance, 2)) for feature, importance in zip(feature_list, importances)]\n",
    "# Sort the feature importances by most important first\n",
    "feature_importances = sorted(feature_importances, key = lambda x: x[1], reverse = True)\n",
    "# Print out the feature and importances \n",
    "[print('Variable: {:20} Importance: {}'.format(*pair)) for pair in feature_importances];"
   ]
  },
  {
   "cell_type": "code",
   "execution_count": 101,
   "id": "846cd884",
   "metadata": {},
   "outputs": [],
   "source": [
    "all_returns_list = []\n",
    "\n",
    "for trade_year in [2022, 2023]:\n",
    "    start_year = trade_year - 10\n",
    "    end_year = trade_year - 1\n",
    "\n",
    "\n",
    "    for initial_date in initial_dates:\n",
    "\n",
    "        initial_calendar_year = datetime.strptime(\n",
    "            str(trade_year) + \"-\" + initial_date, \"%Y-%m-%d\")\n",
    "\n",
    "        # Delay refers to how many days after the 1st or 15th we start the trade\n",
    "        # This technically means we will never start a position on the 29-31st\n",
    "        for delay in delay_range:\n",
    "            start_calendar_year = initial_calendar_year + timedelta(days=delay)\n",
    "            start_calendar = start_calendar_year.strftime('%m-%d')\n",
    "\n",
    "            for hold_length in hold_range:\n",
    "                end_calendar = (start_calendar_year + timedelta(days=hold_length)\n",
    "                                ).strftime('%m-%d')\n",
    "                stock_returns_list = []\n",
    "\n",
    "                for stock in sub_stocks:\n",
    "                    stock_returns_list.append(seasonal_return(sub_data, stock,\n",
    "                                                              start_calendar, end_calendar, start_year, end_year))\n",
    "\n",
    "                seasonal_returns = pd.concat(stock_returns_list)\n",
    "                symbol_stats = seasonal_returns.groupby('Symbol').apply(\n",
    "                    return_stats, risk_free_rate=0)\n",
    "                symbol_stats['trade window'] = initial_calendar_year.strftime('%Y-%m-%d')\n",
    "                symbol_stats['start date'] = start_calendar_year\n",
    "                symbol_stats['end date'] = end_calendar\n",
    "                symbol_stats['Sharpe Long'] = symbol_stats['avg r'] / symbol_stats['vol']\n",
    "                symbol_stats['Sharpe Short'] = -symbol_stats['avg r'] / symbol_stats['vol']\n",
    "\n",
    "                symbol_stats['hold length'] = hold_length\n",
    "                all_returns_list.append(symbol_stats)\n",
    "\n",
    "all_returns = pd.concat(all_returns_list)\n",
    "\n",
    "# Annualize returns\n",
    "all_returns['annualized r'] = (all_returns['avg r'] * 365 /\n",
    "                               all_returns['hold length'])"
   ]
  },
  {
   "cell_type": "code",
   "execution_count": 102,
   "id": "3b6e4b17",
   "metadata": {},
   "outputs": [],
   "source": [
    "all_returns['trade year']=all_returns['trade window'].str.slice(0,4)\n"
   ]
  },
  {
   "cell_type": "code",
   "execution_count": 107,
   "id": "ce8b7db6",
   "metadata": {},
   "outputs": [],
   "source": [
    "all_returns.to_csv('seasonal_trades_2022_2023.csv')\n"
   ]
  },
  {
   "cell_type": "code",
   "execution_count": 110,
   "id": "7940e4fe",
   "metadata": {},
   "outputs": [
    {
     "ename": "TypeError",
     "evalue": "read_csv() got an unexpected keyword argument 'index'",
     "output_type": "error",
     "traceback": [
      "\u001b[1;31m---------------------------------------------------------------------------\u001b[0m",
      "\u001b[1;31mTypeError\u001b[0m                                 Traceback (most recent call last)",
      "Cell \u001b[1;32mIn[110], line 1\u001b[0m\n\u001b[1;32m----> 1\u001b[0m later_returns \u001b[38;5;241m=\u001b[39m \u001b[43mpd\u001b[49m\u001b[38;5;241;43m.\u001b[39;49m\u001b[43mread_csv\u001b[49m\u001b[43m(\u001b[49m\u001b[38;5;124;43m'\u001b[39;49m\u001b[38;5;124;43mseasonal_trades_2022_2023.csv\u001b[39;49m\u001b[38;5;124;43m'\u001b[39;49m\u001b[43m,\u001b[49m\u001b[43mindex\u001b[49m\u001b[38;5;241;43m=\u001b[39;49m\u001b[38;5;28;43;01mFalse\u001b[39;49;00m\u001b[43m)\u001b[49m\n",
      "\u001b[1;31mTypeError\u001b[0m: read_csv() got an unexpected keyword argument 'index'"
     ]
    }
   ],
   "source": [
    "later_returns = pd.read_csv('seasonal_trades_2022_2023.csv')"
   ]
  },
  {
   "cell_type": "code",
   "execution_count": 113,
   "id": "005d6bcf",
   "metadata": {},
   "outputs": [],
   "source": [
    "later_long_positions = later_returns[(later_returns['annualized r'] > 0.4) & \n",
    "(later_returns.up >= 6)].sort_values('Sharpe Long', ascending=False).groupby(\n",
    "    'trade window').head(10)\n",
    "\n",
    "# Define the feature functions, keeping in mind that all_returns already has\n",
    "# the seasonal data calculated\n",
    "\n",
    "# Historical winrates\n",
    "later_long_positions['past1yr']=later_long_positions.apply(lambda row: historical_up_rate(\n",
    "    data, row['Symbol'],row['start date'][5:10], row['end date'], \n",
    "    int(row['trade year'])-1,int(row['trade year'])-1), axis = 1)\n",
    "\n",
    "later_long_positions['past3yr']=later_long_positions.apply(lambda row: historical_up_rate(\n",
    "    data, row['Symbol'],row['start date'][5:10], row['end date'], \n",
    "    int(row['trade year'])-3,int(row['trade year'])-1), axis = 1)\n",
    "\n",
    "later_long_positions['past5yr']=later_long_positions.apply(lambda row: historical_up_rate(\n",
    "    data, row['Symbol'],row['start date'][5:10], row['end date'], \n",
    "    int(row['trade year'])-5,int(row['trade year'])-1), axis = 1)\n"
   ]
  },
  {
   "cell_type": "code",
   "execution_count": 125,
   "id": "fc4bd1dc",
   "metadata": {},
   "outputs": [],
   "source": [
    "later_long_positions['ewm_vol'] = later_long_positions.apply(lambda row: get_ewm_vol(\n",
    "    data, row['Symbol'], row['start date'], 30), axis = 1)\n",
    "\n",
    "later_long_positions['long_momentum'] = later_long_positions.apply(lambda row:\n",
    "    get_ewm_momentum(data, row['Symbol'], row['start date'],\n",
    "        long_window = 10, short_window = 5), axis = 1)\n",
    "later_long_positions['actual_return'] = later_long_positions.apply(lambda row:\n",
    "    get_actual_return(data, row['Symbol'], row['start date'],\n",
    "        str(row['trade year'])+'-'+row['end date']), axis = 1)"
   ]
  },
  {
   "cell_type": "code",
   "execution_count": 132,
   "id": "b925238f",
   "metadata": {},
   "outputs": [
    {
     "name": "stdout",
     "output_type": "stream",
     "text": [
      "              precision    recall  f1-score   support\n",
      "\n",
      "    no_trade       0.54      0.39      0.45       135\n",
      "       trade       0.42      0.57      0.49       105\n",
      "\n",
      "    accuracy                           0.47       240\n",
      "   macro avg       0.48      0.48      0.47       240\n",
      "weighted avg       0.49      0.47      0.47       240\n",
      "\n",
      "                precision    recall  f1-score   support\n",
      "\n",
      "no_trade_no_ML       0.00      0.00      0.00       135\n",
      "   trade_no_ML       0.44      1.00      0.61       105\n",
      "\n",
      "      accuracy                           0.44       240\n",
      "     macro avg       0.22      0.50      0.30       240\n",
      "  weighted avg       0.19      0.44      0.27       240\n",
      "\n"
     ]
    },
    {
     "name": "stderr",
     "output_type": "stream",
     "text": [
      "c:\\users\\ray\\documents\\github\\technical-trading\\venv\\lib\\site-packages\\sklearn\\metrics\\_classification.py:1509: UndefinedMetricWarning: Precision is ill-defined and being set to 0.0 in labels with no predicted samples. Use `zero_division` parameter to control this behavior.\n",
      "  _warn_prf(average, modifier, f\"{metric.capitalize()} is\", len(result))\n",
      "c:\\users\\ray\\documents\\github\\technical-trading\\venv\\lib\\site-packages\\sklearn\\metrics\\_classification.py:1509: UndefinedMetricWarning: Precision is ill-defined and being set to 0.0 in labels with no predicted samples. Use `zero_division` parameter to control this behavior.\n",
      "  _warn_prf(average, modifier, f\"{metric.capitalize()} is\", len(result))\n",
      "c:\\users\\ray\\documents\\github\\technical-trading\\venv\\lib\\site-packages\\sklearn\\metrics\\_classification.py:1509: UndefinedMetricWarning: Precision is ill-defined and being set to 0.0 in labels with no predicted samples. Use `zero_division` parameter to control this behavior.\n",
      "  _warn_prf(average, modifier, f\"{metric.capitalize()} is\", len(result))\n"
     ]
    }
   ],
   "source": [
    "long_2022 = later_long_positions[later_long_positions['trade year']==2022]\n",
    "X_2022 = long_2022[['past1yr','past3yr','past5yr','ewm_vol','long_momentum']].values\n",
    "y_2022 = np.where(long_2022['actual_return'] > 0.01, 1, 0)\n",
    "long_2023 = later_long_positions[later_long_positions['trade year']==2023]\n",
    "X_2023 = long_2023[['past1yr','past3yr','past5yr','ewm_vol','long_momentum']].values\n",
    "y_2023 = np.where(long_2023['actual_return'] > 0.01, 1, 0)\n",
    "\n",
    "rf_trade_2022_prob = rf.predict_proba(X_2022)[:, 1]\n",
    "rf_trade_2022 = rf.predict(X_2022)\n",
    "fpr_rf, tpr_rf, _ = roc_curve(y_2022, rf_trade_2022_prob)\n",
    "print(classification_report(y_2022, rf_trade_2022, \n",
    "                            target_names=['no_trade','trade']))\n",
    "\n",
    "print(classification_report(y_2022,np.repeat(1,len(y_2022)),\n",
    "                            target_names=['no_trade_no_ML','trade_no_ML']))\n",
    "\n"
   ]
  },
  {
   "cell_type": "code",
   "execution_count": 133,
   "id": "affb3c4e",
   "metadata": {},
   "outputs": [
    {
     "name": "stdout",
     "output_type": "stream",
     "text": [
      "              precision    recall  f1-score   support\n",
      "\n",
      "    no_trade       0.48      0.54      0.51       116\n",
      "       trade       0.51      0.45      0.48       124\n",
      "\n",
      "    accuracy                           0.50       240\n",
      "   macro avg       0.50      0.50      0.50       240\n",
      "weighted avg       0.50      0.50      0.49       240\n",
      "\n",
      "                precision    recall  f1-score   support\n",
      "\n",
      "no_trade_no_ML       0.00      0.00      0.00       116\n",
      "   trade_no_ML       0.52      1.00      0.68       124\n",
      "\n",
      "      accuracy                           0.52       240\n",
      "     macro avg       0.26      0.50      0.34       240\n",
      "  weighted avg       0.27      0.52      0.35       240\n",
      "\n"
     ]
    },
    {
     "name": "stderr",
     "output_type": "stream",
     "text": [
      "c:\\users\\ray\\documents\\github\\technical-trading\\venv\\lib\\site-packages\\sklearn\\metrics\\_classification.py:1509: UndefinedMetricWarning: Precision is ill-defined and being set to 0.0 in labels with no predicted samples. Use `zero_division` parameter to control this behavior.\n",
      "  _warn_prf(average, modifier, f\"{metric.capitalize()} is\", len(result))\n",
      "c:\\users\\ray\\documents\\github\\technical-trading\\venv\\lib\\site-packages\\sklearn\\metrics\\_classification.py:1509: UndefinedMetricWarning: Precision is ill-defined and being set to 0.0 in labels with no predicted samples. Use `zero_division` parameter to control this behavior.\n",
      "  _warn_prf(average, modifier, f\"{metric.capitalize()} is\", len(result))\n",
      "c:\\users\\ray\\documents\\github\\technical-trading\\venv\\lib\\site-packages\\sklearn\\metrics\\_classification.py:1509: UndefinedMetricWarning: Precision is ill-defined and being set to 0.0 in labels with no predicted samples. Use `zero_division` parameter to control this behavior.\n",
      "  _warn_prf(average, modifier, f\"{metric.capitalize()} is\", len(result))\n"
     ]
    }
   ],
   "source": [
    "rf_trade_2023_prob = rf.predict_proba(X_2023)[:, 1]\n",
    "rf_trade_2023 = rf.predict(X_2023)\n",
    "fpr_rf, tpr_rf, _ = roc_curve(y_2023, rf_trade_2023_prob)\n",
    "print(classification_report(y_2023, rf_trade_2023, \n",
    "                            target_names=['no_trade','trade']))\n",
    "\n",
    "print(classification_report(y_2023,np.repeat(1,len(y_2023)),\n",
    "                            target_names=['no_trade_no_ML','trade_no_ML']))"
   ]
  },
  {
   "cell_type": "code",
   "execution_count": 134,
   "id": "f22fb64e",
   "metadata": {},
   "outputs": [
    {
     "data": {
      "text/plain": [
       "array([1, 1, 1, 1, 1, 1, 1, 0, 1, 0, 1, 1, 1, 1, 1, 1, 1, 1, 0, 1, 1, 0,\n",
       "       0, 0, 1, 1, 1, 1, 1, 0, 1, 0, 0, 0, 0, 1, 0, 0, 1, 1, 0, 1, 0, 1,\n",
       "       1, 1, 1, 0, 1, 1, 0, 1, 1, 1, 0, 0, 1, 0, 1, 1, 1, 0, 1, 1, 1, 0,\n",
       "       1, 1, 0, 0, 0, 0, 1, 0, 0, 0, 1, 0, 1, 1, 0, 0, 0, 0, 0, 0, 1, 1,\n",
       "       1, 1, 0, 1, 0, 1, 0, 0, 0, 0, 0, 0, 1, 1, 1, 1, 0, 1, 1, 1, 1, 0,\n",
       "       0, 0, 0, 0, 0, 1, 1, 1, 0, 1, 1, 1, 0, 0, 0, 0, 1, 0, 1, 0, 0, 1,\n",
       "       0, 0, 1, 1, 0, 0, 1, 1, 0, 1, 0, 1, 1, 1, 1, 0, 1, 0, 0, 1, 1, 1,\n",
       "       0, 1, 1, 1, 1, 1, 1, 0, 1, 0, 1, 1, 0, 0, 0, 1, 0, 1, 1, 1, 1, 1,\n",
       "       0, 0, 0, 0, 1, 1, 0, 0, 0, 0, 0, 0, 0, 1, 1, 0, 1, 0, 0, 1, 1, 1,\n",
       "       1, 1, 0, 0, 1, 1, 0, 0, 0, 1, 1, 0, 0, 0, 0, 0, 1, 1, 0, 0, 0, 0,\n",
       "       1, 0, 0, 0, 0, 1, 1, 0, 0, 0, 1, 0, 0, 0, 1, 0, 1, 0, 1, 0])"
      ]
     },
     "execution_count": 134,
     "metadata": {},
     "output_type": "execute_result"
    }
   ],
   "source": [
    "y_2023"
   ]
  },
  {
   "cell_type": "code",
   "execution_count": 165,
   "id": "6eb84c7c",
   "metadata": {},
   "outputs": [],
   "source": [
    "data_no_backfill = data[data.index==data['Price Date']]\n",
    "\n",
    "\n",
    "def get_ewm_vol(data, symbol, date, span = 30):\n",
    "    stock_rets = np.log(data[symbol] / data[symbol].shift(1))\n",
    "    return stock_rets.ewm(span).std().loc[date]"
   ]
  },
  {
   "cell_type": "code",
   "execution_count": 188,
   "id": "5da93cf8",
   "metadata": {},
   "outputs": [],
   "source": [
    "def get_ewm_vol(data, symbol, date, span = 30):\n",
    "    stock_rets = np.log(data[symbol] / data[symbol].shift(1))\n",
    "    return stock_rets.ewm(span).std().loc[date]\n",
    "\n",
    "long_positions['ewm_vol'] = long_positions.apply(lambda row: get_ewm_vol(\n",
    "    data_no_backfill, row['Symbol'], data.loc[row['start date']]['Price Date'], 30), axis = 1)"
   ]
  },
  {
   "cell_type": "code",
   "execution_count": 190,
   "id": "291fd037",
   "metadata": {},
   "outputs": [],
   "source": [
    "long_positions['long_momentum'] = long_positions.apply(lambda row:\n",
    "    get_ewm_momentum(data_no_backfill, row['Symbol'], data.loc[row['start date']]['Price Date'],\n",
    "        long_window = 10, short_window = 5), axis = 1)"
   ]
  },
  {
   "cell_type": "code",
   "execution_count": 181,
   "id": "0ec34c0a",
   "metadata": {},
   "outputs": [],
   "source": [
    "row = long_positions.iloc[0,:]"
   ]
  },
  {
   "cell_type": "code",
   "execution_count": 254,
   "id": "90623bbd",
   "metadata": {},
   "outputs": [
    {
     "data": {
      "text/plain": [
       "1989-01-01         NaN\n",
       "1989-01-02         NaN\n",
       "1989-01-03         NaN\n",
       "1989-01-04         NaN\n",
       "1989-01-05         NaN\n",
       "                ...   \n",
       "2023-12-27    0.000000\n",
       "2023-12-28    0.000072\n",
       "2023-12-29   -0.000358\n",
       "2023-12-30   -0.003619\n",
       "2023-12-31   -0.002016\n",
       "Freq: D, Name: A, Length: 12783, dtype: float64"
      ]
     },
     "execution_count": 254,
     "metadata": {},
     "output_type": "execute_result"
    }
   ],
   "source": [
    "np.log(data['A']/data['A'].shift(1)).shift(1)"
   ]
  },
  {
   "cell_type": "code",
   "execution_count": 262,
   "id": "ba728cf3",
   "metadata": {},
   "outputs": [
    {
     "data": {
      "text/plain": [
       "37.66311264038086"
      ]
     },
     "execution_count": 262,
     "metadata": {},
     "output_type": "execute_result"
    }
   ],
   "source": [
    "data['A'].shift(1).loc['2013-12-31']"
   ]
  },
  {
   "cell_type": "code",
   "execution_count": 256,
   "id": "af2f49f0",
   "metadata": {},
   "outputs": [
    {
     "data": {
      "text/plain": [
       "1.002018018018018"
      ]
     },
     "execution_count": 256,
     "metadata": {},
     "output_type": "execute_result"
    }
   ],
   "source": []
  },
  {
   "cell_type": "code",
   "execution_count": null,
   "id": "c79caa84",
   "metadata": {},
   "outputs": [],
   "source": []
  }
 ],
 "metadata": {
  "kernelspec": {
   "display_name": "venv",
   "language": "python",
   "name": "venv"
  },
  "language_info": {
   "codemirror_mode": {
    "name": "ipython",
    "version": 3
   },
   "file_extension": ".py",
   "mimetype": "text/x-python",
   "name": "python",
   "nbconvert_exporter": "python",
   "pygments_lexer": "ipython3",
   "version": "3.9.0"
  }
 },
 "nbformat": 4,
 "nbformat_minor": 5
}
